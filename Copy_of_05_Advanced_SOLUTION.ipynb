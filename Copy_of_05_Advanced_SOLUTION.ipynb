{
  "nbformat": 4,
  "nbformat_minor": 0,
  "metadata": {
    "colab": {
      "provenance": [],
      "include_colab_link": true
    },
    "kernelspec": {
      "name": "python3",
      "display_name": "Python 3"
    }
  },
  "cells": [
    {
      "cell_type": "markdown",
      "metadata": {
        "id": "view-in-github",
        "colab_type": "text"
      },
      "source": [
        "<a href=\"https://colab.research.google.com/github/Mohamed-Silaya/ML-ZAKA/blob/main/Copy_of_05_Advanced_SOLUTION.ipynb\" target=\"_parent\"><img src=\"https://colab.research.google.com/assets/colab-badge.svg\" alt=\"Open In Colab\"/></a>"
      ]
    },
    {
      "cell_type": "markdown",
      "metadata": {
        "id": "ep7n6TXGzCbA"
      },
      "source": [
        "© 2021 Zaka AI, Inc. All Rights Reserved"
      ]
    },
    {
      "cell_type": "markdown",
      "metadata": {
        "id": "YAk09h4Y32VI"
      },
      "source": [
        "# Advanced concepts\n",
        "\n",
        "**Objective:** The goal of this notebook is to go over the advanced concepts that were discussed in the chapter and see them in action. \n",
        "\n",
        "Each block will cover a different concept and blocks are not related. \n",
        "\n",
        "The required libraries for this exercise are `Keras` for building and training the DL model, `Numpy` for numerical handling and loading of the dataset and `scikit-learn` for validation and datasplit."
      ]
    },
    {
      "cell_type": "markdown",
      "metadata": {
        "id": "1ypl_ygA1Ju0"
      },
      "source": [
        "##Load Data"
      ]
    },
    {
      "cell_type": "code",
      "metadata": {
        "id": "qWi9V73u7VPc",
        "colab": {
          "base_uri": "https://localhost:8080/"
        },
        "outputId": "5c08eb48-3233-4b2b-9442-ef1cf30cb59c"
      },
      "source": [
        "# clone git repo\n",
        "!git clone https://github.com/zaka-ai/intro2dl.git\n",
        "\n",
        "# change directory\n",
        "%cd intro2dl/data/"
      ],
      "execution_count": 1,
      "outputs": [
        {
          "output_type": "stream",
          "name": "stdout",
          "text": [
            "Cloning into 'intro2dl'...\n",
            "remote: Enumerating objects: 16, done.\u001b[K\n",
            "remote: Counting objects: 100% (16/16), done.\u001b[K\n",
            "remote: Compressing objects: 100% (15/15), done.\u001b[K\n",
            "remote: Total 16 (delta 1), reused 7 (delta 0), pack-reused 0\u001b[K\n",
            "Unpacking objects: 100% (16/16), done.\n",
            "/content/intro2dl/data\n"
          ]
        }
      ]
    },
    {
      "cell_type": "markdown",
      "metadata": {
        "id": "JJR07znuLcjx"
      },
      "source": [
        "## Save / Load models"
      ]
    },
    {
      "cell_type": "markdown",
      "metadata": {
        "id": "nPOetN6E1f6x"
      },
      "source": [
        "### Train model and save it to disk\n",
        "\n",
        "In this example, we will create a Keras sequential model, fit this model on the Pima Indians Diabetes dataset, then serialize the model to JSON format and save it along with the weights on the disk. \n",
        "\n",
        "We will later see how we can load the model from disk, apply the weights and resume work as normal."
      ]
    },
    {
      "cell_type": "code",
      "metadata": {
        "id": "7BKNm6zSLgKw",
        "colab": {
          "base_uri": "https://localhost:8080/"
        },
        "outputId": "f0c107e9-db9a-48ca-df56-e66f9eaa2ab4"
      },
      "source": [
        "from tensorflow.keras.models import Sequential\n",
        "from tensorflow.keras.layers import Dense\n",
        "from tensorflow.keras.models import model_from_json\n",
        "import numpy\n",
        "\n",
        "# load pima indians dataset\n",
        "dataset = numpy.loadtxt(\"pima-indians-diabetes.csv\", delimiter=\",\")\n",
        "\n",
        "# split into input (X) and output (Y) variables\n",
        "X = dataset[:,0:8]\n",
        "Y = dataset[:,8]\n",
        "\n",
        "# create Sequential model\n",
        "model = Sequential()\n",
        "model.add(Dense(12, input_dim=8, kernel_initializer='uniform', activation='relu'))\n",
        "model.add(Dense(8, kernel_initializer='uniform', activation='relu'))\n",
        "model.add(Dense(1, kernel_initializer='uniform', activation='sigmoid'))\n",
        "\n",
        "# Compile model using Adam optimizer\n",
        "model.compile(loss='binary_crossentropy', optimizer='adam', metrics=['accuracy'])\n",
        "\n",
        "# Fit the model\n",
        "model.fit(X, Y, epochs=150, batch_size=10, verbose=0)\n",
        "\n",
        "# evaluate the model on training data\n",
        "scores = model.evaluate(X, Y, verbose=0)\n",
        "print(\"%s: %.2f%%\" % (model.metrics_names[1], scores[1]*100))\n",
        "\n",
        "# serialize model to JSON\n",
        "model_json = model.to_json()\n",
        "with open(\"model.json\", \"w\") as json_file:\n",
        "    json_file.write(model_json)\n",
        "    \n",
        "# serialize weights to HDF5\n",
        "model.save_weights(\"model.h5\")\n",
        "print(\"Saved model to disk\")"
      ],
      "execution_count": 2,
      "outputs": [
        {
          "output_type": "stream",
          "name": "stdout",
          "text": [
            "accuracy: 79.30%\n",
            "Saved model to disk\n"
          ]
        }
      ]
    },
    {
      "cell_type": "markdown",
      "metadata": {
        "id": "zR43GAF_VTCW"
      },
      "source": [
        "### Load model from disk and use it\n",
        "\n",
        "After the model was serialized to JSON format and saved on the disk, we can use the `model_from_json` function to load the model's architecture again and then load the weights using `load_weights` function. \n",
        "\n",
        "Once the model's topology is defined and the weights are loaded, we can use the model for evaluation but we have to make sure to compile it first!"
      ]
    },
    {
      "cell_type": "code",
      "metadata": {
        "id": "TcHLNgeaVWbz",
        "colab": {
          "base_uri": "https://localhost:8080/"
        },
        "outputId": "3977ffba-39a9-488b-ea67-a0b5354a56a8"
      },
      "source": [
        "# load json and create model\n",
        "json_file = open('model.json', 'r')\n",
        "loaded_model_json = json_file.read()\n",
        "json_file.close()\n",
        "loaded_model = model_from_json(loaded_model_json)\n",
        "\n",
        "# load weights into new model\n",
        "loaded_model.load_weights(\"model.h5\")\n",
        "print(\"Loaded model from disk\")\n",
        "\n",
        "# don't forget to compile the model!\n",
        "loaded_model.compile(loss='binary_crossentropy', optimizer='adam', metrics=['accuracy'])\n",
        "\n",
        "# evaluate loaded model on training data\n",
        "score = loaded_model.evaluate(X, Y, verbose=0)\n",
        "print(\"%s: %.2f%%\" % (loaded_model.metrics_names[1], score[1]*100))"
      ],
      "execution_count": 3,
      "outputs": [
        {
          "output_type": "stream",
          "name": "stdout",
          "text": [
            "Loaded model from disk\n",
            "accuracy: 79.30%\n"
          ]
        }
      ]
    },
    {
      "cell_type": "markdown",
      "metadata": {
        "id": "GP6tWzGrryhC"
      },
      "source": [
        "## Checkpoint Neural Network Model Improvements\n",
        "\n",
        "Let's start by importing the necessary libraries, loading the Pima Indians dataset and then splitting the data into input variables (X) and output variable (Y)."
      ]
    },
    {
      "cell_type": "code",
      "metadata": {
        "id": "XOTAMt_WZGnr"
      },
      "source": [
        "from tensorflow.keras.models import Sequential\n",
        "from tensorflow.keras.layers import Dense\n",
        "from tensorflow.keras.callbacks import ModelCheckpoint\n",
        "import numpy\n",
        "\n",
        "# load pima indians dataset\n",
        "dataset = numpy.loadtxt(\"pima-indians-diabetes.csv\", delimiter=\",\")\n",
        "\n",
        "# split into input (X) and output (Y) variables\n",
        "X = dataset[:,0:8]\n",
        "Y = dataset[:,8]"
      ],
      "execution_count": 4,
      "outputs": []
    },
    {
      "cell_type": "markdown",
      "metadata": {
        "id": "bH57GX_ZZYHb"
      },
      "source": [
        "Let's define a `create_model` function to create and return the model.\n"
      ]
    },
    {
      "cell_type": "code",
      "metadata": {
        "id": "qyTGzCcoZPlh"
      },
      "source": [
        "def create_model():\n",
        "  # create model\n",
        "  model = Sequential()\n",
        "  model.add(Dense(12, input_dim=8, kernel_initializer='uniform', activation='relu'))\n",
        "  model.add(Dense(8, kernel_initializer='uniform', activation='relu'))\n",
        "  model.add(Dense(1, kernel_initializer='uniform', activation='sigmoid'))\n",
        "\n",
        "  # Compile model\n",
        "  model.compile(loss='binary_crossentropy', optimizer='adam', metrics=['accuracy'])\n",
        "\n",
        "  return model"
      ],
      "execution_count": 5,
      "outputs": []
    },
    {
      "cell_type": "markdown",
      "metadata": {
        "id": "w9v5gAm9Ze1d"
      },
      "source": [
        "Initialize the ModelCheckpoint callback and pass it to the `model.fit()` function"
      ]
    },
    {
      "cell_type": "code",
      "metadata": {
        "id": "lQi_GMDlqpc7",
        "colab": {
          "base_uri": "https://localhost:8080/"
        },
        "outputId": "353e2450-7958-413a-daa4-d74229dd5896"
      },
      "source": [
        "# define the checkpoint's name that includes the index of the epoch and the validation accuracy\n",
        "filepath=\"weights-improvement-{epoch:02d}-{val_accuracy:.2f}.hdf5\"\n",
        "\n",
        "# create an instance of ModelCheckpoint\n",
        "checkpoint = ModelCheckpoint(filepath, monitor='val_accuracy', verbose=1, save_best_only=True, mode='max')\n",
        "callbacks_list = [checkpoint]\n",
        "\n",
        "# create the model\n",
        "model = create_model()\n",
        "\n",
        "# fit the model with the callbacks list\n",
        "model.fit(X, Y, validation_split=0.33, epochs=50, batch_size=10, callbacks=callbacks_list, verbose=0)\n"
      ],
      "execution_count": 6,
      "outputs": [
        {
          "output_type": "stream",
          "name": "stdout",
          "text": [
            "\n",
            "Epoch 1: val_accuracy improved from -inf to 0.67323, saving model to weights-improvement-01-0.67.hdf5\n",
            "\n",
            "Epoch 2: val_accuracy did not improve from 0.67323\n",
            "\n",
            "Epoch 3: val_accuracy did not improve from 0.67323\n",
            "\n",
            "Epoch 4: val_accuracy improved from 0.67323 to 0.68110, saving model to weights-improvement-04-0.68.hdf5\n",
            "\n",
            "Epoch 5: val_accuracy improved from 0.68110 to 0.68898, saving model to weights-improvement-05-0.69.hdf5\n",
            "\n",
            "Epoch 6: val_accuracy did not improve from 0.68898\n",
            "\n",
            "Epoch 7: val_accuracy did not improve from 0.68898\n",
            "\n",
            "Epoch 8: val_accuracy did not improve from 0.68898\n",
            "\n",
            "Epoch 9: val_accuracy did not improve from 0.68898\n",
            "\n",
            "Epoch 10: val_accuracy did not improve from 0.68898\n",
            "\n",
            "Epoch 11: val_accuracy did not improve from 0.68898\n",
            "\n",
            "Epoch 12: val_accuracy did not improve from 0.68898\n",
            "\n",
            "Epoch 13: val_accuracy did not improve from 0.68898\n",
            "\n",
            "Epoch 14: val_accuracy did not improve from 0.68898\n",
            "\n",
            "Epoch 15: val_accuracy did not improve from 0.68898\n",
            "\n",
            "Epoch 16: val_accuracy did not improve from 0.68898\n",
            "\n",
            "Epoch 17: val_accuracy did not improve from 0.68898\n",
            "\n",
            "Epoch 18: val_accuracy improved from 0.68898 to 0.69685, saving model to weights-improvement-18-0.70.hdf5\n",
            "\n",
            "Epoch 19: val_accuracy did not improve from 0.69685\n",
            "\n",
            "Epoch 20: val_accuracy did not improve from 0.69685\n",
            "\n",
            "Epoch 21: val_accuracy did not improve from 0.69685\n",
            "\n",
            "Epoch 22: val_accuracy did not improve from 0.69685\n",
            "\n",
            "Epoch 23: val_accuracy did not improve from 0.69685\n",
            "\n",
            "Epoch 24: val_accuracy did not improve from 0.69685\n",
            "\n",
            "Epoch 25: val_accuracy did not improve from 0.69685\n",
            "\n",
            "Epoch 26: val_accuracy improved from 0.69685 to 0.70866, saving model to weights-improvement-26-0.71.hdf5\n",
            "\n",
            "Epoch 27: val_accuracy improved from 0.70866 to 0.71260, saving model to weights-improvement-27-0.71.hdf5\n",
            "\n",
            "Epoch 28: val_accuracy did not improve from 0.71260\n",
            "\n",
            "Epoch 29: val_accuracy did not improve from 0.71260\n",
            "\n",
            "Epoch 30: val_accuracy did not improve from 0.71260\n",
            "\n",
            "Epoch 31: val_accuracy did not improve from 0.71260\n",
            "\n",
            "Epoch 32: val_accuracy did not improve from 0.71260\n",
            "\n",
            "Epoch 33: val_accuracy did not improve from 0.71260\n",
            "\n",
            "Epoch 34: val_accuracy did not improve from 0.71260\n",
            "\n",
            "Epoch 35: val_accuracy improved from 0.71260 to 0.72047, saving model to weights-improvement-35-0.72.hdf5\n",
            "\n",
            "Epoch 36: val_accuracy did not improve from 0.72047\n",
            "\n",
            "Epoch 37: val_accuracy did not improve from 0.72047\n",
            "\n",
            "Epoch 38: val_accuracy did not improve from 0.72047\n",
            "\n",
            "Epoch 39: val_accuracy did not improve from 0.72047\n",
            "\n",
            "Epoch 40: val_accuracy did not improve from 0.72047\n",
            "\n",
            "Epoch 41: val_accuracy did not improve from 0.72047\n",
            "\n",
            "Epoch 42: val_accuracy did not improve from 0.72047\n",
            "\n",
            "Epoch 43: val_accuracy did not improve from 0.72047\n",
            "\n",
            "Epoch 44: val_accuracy improved from 0.72047 to 0.72835, saving model to weights-improvement-44-0.73.hdf5\n",
            "\n",
            "Epoch 45: val_accuracy did not improve from 0.72835\n",
            "\n",
            "Epoch 46: val_accuracy did not improve from 0.72835\n",
            "\n",
            "Epoch 47: val_accuracy did not improve from 0.72835\n",
            "\n",
            "Epoch 48: val_accuracy did not improve from 0.72835\n",
            "\n",
            "Epoch 49: val_accuracy did not improve from 0.72835\n",
            "\n",
            "Epoch 50: val_accuracy did not improve from 0.72835\n"
          ]
        },
        {
          "output_type": "execute_result",
          "data": {
            "text/plain": [
              "<keras.callbacks.History at 0x7f6fe8263e90>"
            ]
          },
          "metadata": {},
          "execution_count": 6
        }
      ]
    },
    {
      "cell_type": "markdown",
      "metadata": {
        "id": "5AF4gbe3r35x"
      },
      "source": [
        "## Checkpoint Best Neural Network Model Only\n",
        "\n",
        "Instead of saving a new copy of the model every time the monitored value improves, we can save only 1 model checkpoint by specifying a fixed name for the checkpoint. "
      ]
    },
    {
      "cell_type": "code",
      "metadata": {
        "id": "ElnfgOiJr6YB",
        "colab": {
          "base_uri": "https://localhost:8080/"
        },
        "outputId": "211d4741-cb8c-4b75-f87e-c9916c3c9193"
      },
      "source": [
        "# fixed checkpoint name\n",
        "filepath=\"weights_best.hdf5\"\n",
        "checkpoint = ModelCheckpoint(filepath, monitor='val_accuracy', verbose=1, save_best_only=True, mode='max')\n",
        "callbacks_list = [checkpoint]\n",
        "\n",
        "# create the model\n",
        "model = create_model()\n",
        "\n",
        "# fit the model\n",
        "model.fit(X, Y, validation_split=0.33, epochs=50, batch_size=10, callbacks=callbacks_list, verbose=0)"
      ],
      "execution_count": 7,
      "outputs": [
        {
          "output_type": "stream",
          "name": "stdout",
          "text": [
            "\n",
            "Epoch 1: val_accuracy improved from -inf to 0.67323, saving model to weights_best.hdf5\n",
            "\n",
            "Epoch 2: val_accuracy did not improve from 0.67323\n",
            "\n",
            "Epoch 3: val_accuracy did not improve from 0.67323\n",
            "\n",
            "Epoch 4: val_accuracy did not improve from 0.67323\n",
            "\n",
            "Epoch 5: val_accuracy improved from 0.67323 to 0.68504, saving model to weights_best.hdf5\n",
            "\n",
            "Epoch 6: val_accuracy improved from 0.68504 to 0.70079, saving model to weights_best.hdf5\n",
            "\n",
            "Epoch 7: val_accuracy did not improve from 0.70079\n",
            "\n",
            "Epoch 8: val_accuracy did not improve from 0.70079\n",
            "\n",
            "Epoch 9: val_accuracy improved from 0.70079 to 0.70472, saving model to weights_best.hdf5\n",
            "\n",
            "Epoch 10: val_accuracy did not improve from 0.70472\n",
            "\n",
            "Epoch 11: val_accuracy did not improve from 0.70472\n",
            "\n",
            "Epoch 12: val_accuracy did not improve from 0.70472\n",
            "\n",
            "Epoch 13: val_accuracy improved from 0.70472 to 0.71654, saving model to weights_best.hdf5\n",
            "\n",
            "Epoch 14: val_accuracy did not improve from 0.71654\n",
            "\n",
            "Epoch 15: val_accuracy improved from 0.71654 to 0.72047, saving model to weights_best.hdf5\n",
            "\n",
            "Epoch 16: val_accuracy improved from 0.72047 to 0.73622, saving model to weights_best.hdf5\n",
            "\n",
            "Epoch 17: val_accuracy did not improve from 0.73622\n",
            "\n",
            "Epoch 18: val_accuracy did not improve from 0.73622\n",
            "\n",
            "Epoch 19: val_accuracy did not improve from 0.73622\n",
            "\n",
            "Epoch 20: val_accuracy did not improve from 0.73622\n",
            "\n",
            "Epoch 21: val_accuracy did not improve from 0.73622\n",
            "\n",
            "Epoch 22: val_accuracy did not improve from 0.73622\n",
            "\n",
            "Epoch 23: val_accuracy did not improve from 0.73622\n",
            "\n",
            "Epoch 24: val_accuracy did not improve from 0.73622\n",
            "\n",
            "Epoch 25: val_accuracy did not improve from 0.73622\n",
            "\n",
            "Epoch 26: val_accuracy did not improve from 0.73622\n",
            "\n",
            "Epoch 27: val_accuracy did not improve from 0.73622\n",
            "\n",
            "Epoch 28: val_accuracy did not improve from 0.73622\n",
            "\n",
            "Epoch 29: val_accuracy did not improve from 0.73622\n",
            "\n",
            "Epoch 30: val_accuracy did not improve from 0.73622\n",
            "\n",
            "Epoch 31: val_accuracy improved from 0.73622 to 0.75197, saving model to weights_best.hdf5\n",
            "\n",
            "Epoch 32: val_accuracy did not improve from 0.75197\n",
            "\n",
            "Epoch 33: val_accuracy did not improve from 0.75197\n",
            "\n",
            "Epoch 34: val_accuracy did not improve from 0.75197\n",
            "\n",
            "Epoch 35: val_accuracy did not improve from 0.75197\n",
            "\n",
            "Epoch 36: val_accuracy did not improve from 0.75197\n",
            "\n",
            "Epoch 37: val_accuracy did not improve from 0.75197\n",
            "\n",
            "Epoch 38: val_accuracy did not improve from 0.75197\n",
            "\n",
            "Epoch 39: val_accuracy did not improve from 0.75197\n",
            "\n",
            "Epoch 40: val_accuracy did not improve from 0.75197\n",
            "\n",
            "Epoch 41: val_accuracy did not improve from 0.75197\n",
            "\n",
            "Epoch 42: val_accuracy did not improve from 0.75197\n",
            "\n",
            "Epoch 43: val_accuracy did not improve from 0.75197\n",
            "\n",
            "Epoch 44: val_accuracy did not improve from 0.75197\n",
            "\n",
            "Epoch 45: val_accuracy did not improve from 0.75197\n",
            "\n",
            "Epoch 46: val_accuracy did not improve from 0.75197\n",
            "\n",
            "Epoch 47: val_accuracy did not improve from 0.75197\n",
            "\n",
            "Epoch 48: val_accuracy did not improve from 0.75197\n",
            "\n",
            "Epoch 49: val_accuracy did not improve from 0.75197\n",
            "\n",
            "Epoch 50: val_accuracy did not improve from 0.75197\n"
          ]
        },
        {
          "output_type": "execute_result",
          "data": {
            "text/plain": [
              "<keras.callbacks.History at 0x7f6fe810d090>"
            ]
          },
          "metadata": {},
          "execution_count": 7
        }
      ]
    },
    {
      "cell_type": "markdown",
      "metadata": {
        "id": "7DuVZXh5ORkT"
      },
      "source": [
        "## Load and use weights from a checkpoint\n",
        "\n",
        "Now that we have saved the best model weights, let's see how we can load and re-use them.\n"
      ]
    },
    {
      "cell_type": "code",
      "metadata": {
        "id": "Yni7DxMpOWoT",
        "colab": {
          "base_uri": "https://localhost:8080/"
        },
        "outputId": "870751d6-0c31-4df8-ddfd-92281e1a4d3f"
      },
      "source": [
        "from tensorflow.keras.models import Sequential\n",
        "from tensorflow.keras.layers import Dense\n",
        "import numpy\n",
        "\n",
        "# create model with same architecture!\n",
        "model = Sequential()\n",
        "model.add(Dense(12, input_dim=8, kernel_initializer='uniform', activation='relu'))\n",
        "model.add(Dense(8, kernel_initializer='uniform', activation='relu'))\n",
        "model.add(Dense(1, kernel_initializer='uniform', activation='sigmoid'))\n",
        "\n",
        "# load best weights\n",
        "model.load_weights(\"weights_best.hdf5\")\n",
        "\n",
        "# compile model (required to make predictions)\n",
        "model.compile(loss='binary_crossentropy', optimizer='adam', metrics=['accuracy'])\n",
        "print(\"Created model and loaded weights from file\")\n",
        "\n",
        "# load pima indians dataset\n",
        "dataset = numpy.loadtxt(\"pima-indians-diabetes.csv\", delimiter=\",\")\n",
        "\n",
        "# split into input (X) and output (Y) variables\n",
        "X = dataset[:,0:8]\n",
        "Y = dataset[:,8]\n",
        "\n",
        "# estimate accuracy on whole dataset using loaded weights\n",
        "scores = model.evaluate(X, Y, verbose=0)\n",
        "print(\"%s: %.2f%%\" % (model.metrics_names[1], scores[1]*100))\n"
      ],
      "execution_count": 8,
      "outputs": [
        {
          "output_type": "stream",
          "name": "stdout",
          "text": [
            "Created model and loaded weights from file\n",
            "accuracy: 73.44%\n"
          ]
        }
      ]
    },
    {
      "cell_type": "markdown",
      "metadata": {
        "id": "BDVd6nZAZzsS"
      },
      "source": [
        "## Visualize model training history\n",
        "\n",
        "Another concept discussed in this lesson is the model training history. When calling the `model.fit()` function, we can retrieve the training history and use that to visualize the training process."
      ]
    },
    {
      "cell_type": "code",
      "metadata": {
        "id": "eMd8XnOAZ4a8",
        "colab": {
          "base_uri": "https://localhost:8080/",
          "height": 590
        },
        "outputId": "df3ace6c-df19-40c1-adca-a34c39c78976"
      },
      "source": [
        "from tensorflow.keras.models import Sequential\n",
        "from tensorflow.keras.layers import Dense\n",
        "import matplotlib.pyplot as plt\n",
        "import numpy\n",
        "\n",
        "# load pima indians dataset\n",
        "dataset = numpy.loadtxt(\"pima-indians-diabetes.csv\", delimiter=\",\")\n",
        "\n",
        "# split into input (X) and output (Y) variables\n",
        "X = dataset[:,0:8]\n",
        "Y = dataset[:,8]\n",
        "\n",
        "# create model\n",
        "model = Sequential()\n",
        "model.add(Dense(12, input_dim=8, kernel_initializer='uniform', activation='relu'))\n",
        "model.add(Dense(8, kernel_initializer='uniform', activation='relu'))\n",
        "model.add(Dense(1, kernel_initializer='uniform', activation='sigmoid'))\n",
        "\n",
        "# Compile model\n",
        "model.compile(loss='binary_crossentropy', optimizer='adam', metrics=['accuracy'])\n",
        "\n",
        "# Fit the model and retrieve the training history\n",
        "training_history = model.fit(X, Y, validation_split=0.33, epochs=150, batch_size=10, verbose=0)\n",
        "\n",
        "# list all data in history\n",
        "print(training_history.history.keys())\n",
        "\n",
        "# summarize history for training and validation accuracy\n",
        "plt.plot(training_history.history['accuracy'])\n",
        "plt.plot(training_history.history['val_accuracy'])\n",
        "plt.title('model accuracy')\n",
        "plt.ylabel('accuracy')\n",
        "plt.xlabel('epoch')\n",
        "plt.legend(['train', 'test'], loc='upper left')\n",
        "plt.show()\n",
        "\n",
        "# summarize history for training and validation loss\n",
        "plt.plot(training_history.history['loss'])\n",
        "plt.plot(training_history.history['val_loss'])\n",
        "plt.title('model loss')\n",
        "plt.ylabel('loss')\n",
        "plt.xlabel('epoch')\n",
        "plt.legend(['train', 'test'], loc='upper left')\n",
        "plt.show()\n"
      ],
      "execution_count": 9,
      "outputs": [
        {
          "output_type": "stream",
          "name": "stdout",
          "text": [
            "dict_keys(['loss', 'accuracy', 'val_loss', 'val_accuracy'])\n"
          ]
        },
        {
          "output_type": "display_data",
          "data": {
            "text/plain": [
              "<Figure size 432x288 with 1 Axes>"
            ],
            "image/png": "[encoded data removed]"
          },
          "metadata": {
            "needs_background": "light"
          }
        },
        {
          "output_type": "display_data",
          "data": {
            "text/plain": [
              "<Figure size 432x288 with 1 Axes>"
            ],
            "image/png": "[encoded data removed]"
          },
          "metadata": {
            "needs_background": "light"
          }
        }
      ]
    },
    {
      "cell_type": "markdown",
      "metadata": {
        "id": "4k7IsG9ZgjrB"
      },
      "source": [
        "## Time-based Learning rate schedule\n",
        "\n",
        "Adjusting the learning rate while training can lead to better convergence of the model. One method that was covered in the lesson's slides is the Time-based learning rate schedule. \n",
        "\n",
        "To achieve that, we can create an instance of the SGD (Stochastic Gradient Descent) class and customize the parameters. Specifically, we have to set the `decay_rate` parameter to have the value of `learning_rate / epochs` which will guarantee that our learning rate will reach 0 when the training finishes."
      ]
    },
    {
      "cell_type": "code",
      "metadata": {
        "id": "JkuUR8nRgo26",
        "colab": {
          "base_uri": "https://localhost:8080/"
        },
        "outputId": "b8c71df9-73ce-460c-ba03-d37e1b1181e4"
      },
      "source": [
        "from tensorflow.keras.models import Sequential\n",
        "from tensorflow.keras.layers import Dense\n",
        "from tensorflow.keras.optimizers import SGD\n",
        "import matplotlib.pyplot as plt\n",
        "import numpy\n",
        "\n",
        "# load pima indians dataset\n",
        "dataset = numpy.loadtxt(\"pima-indians-diabetes.csv\", delimiter=\",\")\n",
        "\n",
        "# split into input (X) and output (Y) variables\n",
        "X = dataset[:,0:8]\n",
        "Y = dataset[:,8]\n",
        "\n",
        "# create model\n",
        "model = Sequential()\n",
        "model.add(Dense(12, input_dim=8, activation='relu'))\n",
        "model.add(Dense(1, activation='sigmoid'))\n",
        "\n",
        "# define the SGD's parameters\n",
        "epochs = 50\n",
        "learning_rate = 0.001\n",
        "decay_rate = learning_rate / epochs\n",
        "momentum = 0.01\n",
        "\n",
        "# create a new instance of SGD class with custom parameters\n",
        "sgd = SGD(lr=learning_rate, momentum=momentum, decay=decay_rate, nesterov=False)\n",
        "\n",
        "# compile model while passing the custom SGD class\n",
        "model.compile(loss='binary_crossentropy', optimizer=sgd, metrics=['accuracy'])\n",
        "\n",
        "# fit the model\n",
        "model.fit(X, Y, validation_split=0.33, epochs=50, batch_size=10, verbose=1)"
      ],
      "execution_count": 10,
      "outputs": [
        {
          "output_type": "stream",
          "name": "stdout",
          "text": [
            "Epoch 1/50\n"
          ]
        },
        {
          "output_type": "stream",
          "name": "stderr",
          "text": [
            "/usr/local/lib/python3.7/dist-packages/keras/optimizers/optimizer_v2/gradient_descent.py:108: UserWarning: The `lr` argument is deprecated, use `learning_rate` instead.\n",
            "  super(SGD, self).__init__(name, **kwargs)\n"
          ]
        },
        {
          "output_type": "stream",
          "name": "stdout",
          "text": [
            "52/52 [==============================] - 1s 6ms/step - loss: 4.6584 - accuracy: 0.6031 - val_loss: 2.2242 - val_accuracy: 0.6024\n",
            "Epoch 2/50\n",
            "52/52 [==============================] - 0s 3ms/step - loss: 2.5079 - accuracy: 0.6206 - val_loss: 1.7330 - val_accuracy: 0.6772\n",
            "Epoch 3/50\n",
            "52/52 [==============================] - 0s 3ms/step - loss: 1.7352 - accuracy: 0.6206 - val_loss: 1.8246 - val_accuracy: 0.6063\n",
            "Epoch 4/50\n",
            "52/52 [==============================] - 0s 3ms/step - loss: 1.6056 - accuracy: 0.6518 - val_loss: 1.1648 - val_accuracy: 0.6614\n",
            "Epoch 5/50\n",
            "52/52 [==============================] - 0s 4ms/step - loss: 1.2115 - accuracy: 0.6401 - val_loss: 0.9951 - val_accuracy: 0.6732\n",
            "Epoch 6/50\n",
            "52/52 [==============================] - 0s 3ms/step - loss: 1.4223 - accuracy: 0.5934 - val_loss: 0.9039 - val_accuracy: 0.6850\n",
            "Epoch 7/50\n",
            "52/52 [==============================] - 0s 3ms/step - loss: 1.1297 - accuracy: 0.6245 - val_loss: 1.0662 - val_accuracy: 0.5433\n",
            "Epoch 8/50\n",
            "52/52 [==============================] - 0s 3ms/step - loss: 0.9423 - accuracy: 0.6401 - val_loss: 0.7492 - val_accuracy: 0.6693\n",
            "Epoch 9/50\n",
            "52/52 [==============================] - 0s 3ms/step - loss: 0.8145 - accuracy: 0.6848 - val_loss: 1.0573 - val_accuracy: 0.4764\n",
            "Epoch 10/50\n",
            "52/52 [==============================] - 0s 3ms/step - loss: 0.7726 - accuracy: 0.6615 - val_loss: 1.0225 - val_accuracy: 0.5354\n",
            "Epoch 11/50\n",
            "52/52 [==============================] - 0s 3ms/step - loss: 0.7776 - accuracy: 0.6887 - val_loss: 0.7223 - val_accuracy: 0.6496\n",
            "Epoch 12/50\n",
            "52/52 [==============================] - 0s 3ms/step - loss: 0.7179 - accuracy: 0.6907 - val_loss: 0.7567 - val_accuracy: 0.6378\n",
            "Epoch 13/50\n",
            "52/52 [==============================] - 0s 3ms/step - loss: 0.7724 - accuracy: 0.6459 - val_loss: 1.0387 - val_accuracy: 0.6732\n",
            "Epoch 14/50\n",
            "52/52 [==============================] - 0s 3ms/step - loss: 0.8048 - accuracy: 0.6576 - val_loss: 0.8109 - val_accuracy: 0.6732\n",
            "Epoch 15/50\n",
            "52/52 [==============================] - 0s 3ms/step - loss: 0.6641 - accuracy: 0.6751 - val_loss: 0.6658 - val_accuracy: 0.6693\n",
            "Epoch 16/50\n",
            "52/52 [==============================] - 0s 3ms/step - loss: 0.6583 - accuracy: 0.6693 - val_loss: 0.6994 - val_accuracy: 0.6654\n",
            "Epoch 17/50\n",
            "52/52 [==============================] - 0s 4ms/step - loss: 0.7143 - accuracy: 0.6732 - val_loss: 0.7097 - val_accuracy: 0.6339\n",
            "Epoch 18/50\n",
            "52/52 [==============================] - 0s 3ms/step - loss: 0.6562 - accuracy: 0.6868 - val_loss: 0.6573 - val_accuracy: 0.6457\n",
            "Epoch 19/50\n",
            "52/52 [==============================] - 0s 3ms/step - loss: 0.7115 - accuracy: 0.6576 - val_loss: 0.8559 - val_accuracy: 0.6614\n",
            "Epoch 20/50\n",
            "52/52 [==============================] - 0s 4ms/step - loss: 0.6320 - accuracy: 0.6984 - val_loss: 0.6525 - val_accuracy: 0.6575\n",
            "Epoch 21/50\n",
            "52/52 [==============================] - 0s 3ms/step - loss: 0.6705 - accuracy: 0.6809 - val_loss: 0.9528 - val_accuracy: 0.6772\n",
            "Epoch 22/50\n",
            "52/52 [==============================] - 0s 3ms/step - loss: 0.6942 - accuracy: 0.6751 - val_loss: 0.7696 - val_accuracy: 0.5630\n",
            "Epoch 23/50\n",
            "52/52 [==============================] - 0s 4ms/step - loss: 0.6448 - accuracy: 0.6868 - val_loss: 1.0196 - val_accuracy: 0.6575\n",
            "Epoch 24/50\n",
            "52/52 [==============================] - 0s 3ms/step - loss: 0.6442 - accuracy: 0.7004 - val_loss: 0.7094 - val_accuracy: 0.6654\n",
            "Epoch 25/50\n",
            "52/52 [==============================] - 0s 3ms/step - loss: 0.6517 - accuracy: 0.6712 - val_loss: 1.0371 - val_accuracy: 0.6772\n",
            "Epoch 26/50\n",
            "52/52 [==============================] - 0s 3ms/step - loss: 0.6545 - accuracy: 0.6790 - val_loss: 0.6408 - val_accuracy: 0.6693\n",
            "Epoch 27/50\n",
            "52/52 [==============================] - 0s 3ms/step - loss: 0.6077 - accuracy: 0.6751 - val_loss: 0.9246 - val_accuracy: 0.5787\n",
            "Epoch 28/50\n",
            "52/52 [==============================] - 0s 3ms/step - loss: 0.6465 - accuracy: 0.6673 - val_loss: 0.7492 - val_accuracy: 0.6693\n",
            "Epoch 29/50\n",
            "52/52 [==============================] - 0s 3ms/step - loss: 0.6370 - accuracy: 0.6712 - val_loss: 0.7658 - val_accuracy: 0.6693\n",
            "Epoch 30/50\n",
            "52/52 [==============================] - 0s 4ms/step - loss: 0.6198 - accuracy: 0.7062 - val_loss: 0.7312 - val_accuracy: 0.6024\n",
            "Epoch 31/50\n",
            "52/52 [==============================] - 0s 3ms/step - loss: 0.6183 - accuracy: 0.6946 - val_loss: 0.6337 - val_accuracy: 0.6693\n",
            "Epoch 32/50\n",
            "52/52 [==============================] - 0s 3ms/step - loss: 0.6265 - accuracy: 0.6926 - val_loss: 0.6561 - val_accuracy: 0.6299\n",
            "Epoch 33/50\n",
            "52/52 [==============================] - 0s 3ms/step - loss: 0.5911 - accuracy: 0.7043 - val_loss: 0.8006 - val_accuracy: 0.5866\n",
            "Epoch 34/50\n",
            "52/52 [==============================] - 0s 3ms/step - loss: 0.6351 - accuracy: 0.6848 - val_loss: 0.6287 - val_accuracy: 0.6378\n",
            "Epoch 35/50\n",
            "52/52 [==============================] - 0s 3ms/step - loss: 0.5805 - accuracy: 0.6926 - val_loss: 0.7555 - val_accuracy: 0.5866\n",
            "Epoch 36/50\n",
            "52/52 [==============================] - 0s 3ms/step - loss: 0.6045 - accuracy: 0.7023 - val_loss: 0.7220 - val_accuracy: 0.6024\n",
            "Epoch 37/50\n",
            "52/52 [==============================] - 0s 3ms/step - loss: 0.6038 - accuracy: 0.6965 - val_loss: 0.6774 - val_accuracy: 0.6535\n",
            "Epoch 38/50\n",
            "52/52 [==============================] - 0s 3ms/step - loss: 0.6137 - accuracy: 0.6926 - val_loss: 0.6308 - val_accuracy: 0.6575\n",
            "Epoch 39/50\n",
            "52/52 [==============================] - 0s 3ms/step - loss: 0.5958 - accuracy: 0.7062 - val_loss: 0.6528 - val_accuracy: 0.6535\n",
            "Epoch 40/50\n",
            "52/52 [==============================] - 0s 4ms/step - loss: 0.6008 - accuracy: 0.6965 - val_loss: 0.6595 - val_accuracy: 0.6614\n",
            "Epoch 41/50\n",
            "52/52 [==============================] - 0s 3ms/step - loss: 0.5873 - accuracy: 0.7101 - val_loss: 0.6874 - val_accuracy: 0.6772\n",
            "Epoch 42/50\n",
            "52/52 [==============================] - 0s 3ms/step - loss: 0.5974 - accuracy: 0.7101 - val_loss: 0.6762 - val_accuracy: 0.6693\n",
            "Epoch 43/50\n",
            "52/52 [==============================] - 0s 3ms/step - loss: 0.5945 - accuracy: 0.6848 - val_loss: 0.6704 - val_accuracy: 0.6693\n",
            "Epoch 44/50\n",
            "52/52 [==============================] - 0s 4ms/step - loss: 0.5922 - accuracy: 0.7043 - val_loss: 0.6546 - val_accuracy: 0.6614\n",
            "Epoch 45/50\n",
            "52/52 [==============================] - 0s 3ms/step - loss: 0.6180 - accuracy: 0.7082 - val_loss: 0.6350 - val_accuracy: 0.6654\n",
            "Epoch 46/50\n",
            "52/52 [==============================] - 0s 4ms/step - loss: 0.5756 - accuracy: 0.7315 - val_loss: 0.8547 - val_accuracy: 0.5472\n",
            "Epoch 47/50\n",
            "52/52 [==============================] - 0s 3ms/step - loss: 0.5937 - accuracy: 0.7062 - val_loss: 0.6803 - val_accuracy: 0.6772\n",
            "Epoch 48/50\n",
            "52/52 [==============================] - 0s 3ms/step - loss: 0.5918 - accuracy: 0.7004 - val_loss: 0.6927 - val_accuracy: 0.5906\n",
            "Epoch 49/50\n",
            "52/52 [==============================] - 0s 3ms/step - loss: 0.5993 - accuracy: 0.6829 - val_loss: 0.6356 - val_accuracy: 0.6693\n",
            "Epoch 50/50\n",
            "52/52 [==============================] - 0s 4ms/step - loss: 0.6087 - accuracy: 0.6984 - val_loss: 0.6158 - val_accuracy: 0.6693\n"
          ]
        },
        {
          "output_type": "execute_result",
          "data": {
            "text/plain": [
              "<keras.callbacks.History at 0x7f6fec737f50>"
            ]
          },
          "metadata": {},
          "execution_count": 10
        }
      ]
    }
  ]
}