{
  "nbformat": 4,
  "nbformat_minor": 0,
  "metadata": {
    "colab": {
      "provenance": [],
      "include_colab_link": true
    },
    "kernelspec": {
      "name": "python3",
      "display_name": "Python 3"
    }
  },
  "cells": [
    {
      "cell_type": "markdown",
      "metadata": {
        "id": "view-in-github",
        "colab_type": "text"
      },
      "source": [
        "<a href=\"https://colab.research.google.com/github/Mohamed-Silaya/ML-ZAKA/blob/main/05_Advanced_SOLUTION.ipynb\" target=\"_parent\"><img src=\"https://colab.research.google.com/assets/colab-badge.svg\" alt=\"Open In Colab\"/></a>"
      ]
    },
    {
      "cell_type": "markdown",
      "metadata": {
        "id": "ep7n6TXGzCbA"
      },
      "source": [
        "© 2021 Zaka AI, Inc. All Rights Reserved"
      ]
    },
    {
      "cell_type": "markdown",
      "metadata": {
        "id": "YAk09h4Y32VI"
      },
      "source": [
        "# Advanced concepts\n",
        "\n",
        "**Objective:** The goal of this notebook is to go over the advanced concepts that were discussed in the chapter and see them in action. \n",
        "\n",
        "Each block will cover a different concept and blocks are not related. \n",
        "\n",
        "The required libraries for this exercise are `Keras` for building and training the DL model, `Numpy` for numerical handling and loading of the dataset and `scikit-learn` for validation and datasplit."
      ]
    },
    {
      "cell_type": "markdown",
      "metadata": {
        "id": "1ypl_ygA1Ju0"
      },
      "source": [
        "##Load Data"
      ]
    },
    {
      "cell_type": "code",
      "metadata": {
        "id": "qWi9V73u7VPc",
        "colab": {
          "base_uri": "https://localhost:8080/"
        },
        "outputId": "2de92756-d59b-4b07-8e48-d3f91927fe09"
      },
      "source": [
        "# clone git repo\n",
        "!git clone https://github.com/zaka-ai/intro2dl.git\n",
        "\n",
        "# change directory\n",
        "%cd intro2dl/data/"
      ],
      "execution_count": null,
      "outputs": [
        {
          "output_type": "stream",
          "name": "stdout",
          "text": [
            "Cloning into 'intro2dl'...\n",
            "remote: Enumerating objects: 16, done.\u001b[K\n",
            "remote: Counting objects: 100% (16/16), done.\u001b[K\n",
            "remote: Compressing objects: 100% (15/15), done.\u001b[K\n",
            "remote: Total 16 (delta 1), reused 7 (delta 0), pack-reused 0\u001b[K\n",
            "Unpacking objects: 100% (16/16), done.\n",
            "/content/intro2dl/data\n"
          ]
        }
      ]
    },
    {
      "cell_type": "markdown",
      "metadata": {
        "id": "JJR07znuLcjx"
      },
      "source": [
        "## Save / Load models"
      ]
    },
    {
      "cell_type": "markdown",
      "metadata": {
        "id": "nPOetN6E1f6x"
      },
      "source": [
        "### Train model and save it to disk\n",
        "\n",
        "In this example, we will create a Keras sequential model, fit this model on the Pima Indians Diabetes dataset, then serialize the model to JSON format and save it along with the weights on the disk. \n",
        "\n",
        "We will later see how we can load the model from disk, apply the weights and resume work as normal."
      ]
    },
    {
      "cell_type": "code",
      "metadata": {
        "id": "7BKNm6zSLgKw",
        "colab": {
          "base_uri": "https://localhost:8080/"
        },
        "outputId": "dc2c8f4b-595a-494f-f541-ffdd4aa93ad4"
      },
      "source": [
        "from tensorflow.keras.models import Sequential\n",
        "from tensorflow.keras.layers import Dense\n",
        "from tensorflow.keras.models import model_from_json\n",
        "import numpy\n",
        "\n",
        "# load pima indians dataset\n",
        "dataset = numpy.loadtxt(\"pima-indians-diabetes.csv\", delimiter=\",\")\n",
        "\n",
        "# split into input (X) and output (Y) variables\n",
        "X = dataset[:,0:8]\n",
        "Y = dataset[:,8]\n",
        "\n",
        "# create Sequential model\n",
        "model = Sequential()\n",
        "model.add(Dense(12, input_dim=8, kernel_initializer='uniform', activation='relu'))\n",
        "model.add(Dense(8, kernel_initializer='uniform', activation='relu'))\n",
        "model.add(Dense(1, kernel_initializer='uniform', activation='sigmoid'))\n",
        "\n",
        "# Compile model using Adam optimizer\n",
        "model.compile(loss='binary_crossentropy', optimizer='adam', metrics=['accuracy'])\n",
        "\n",
        "# Fit the model\n",
        "model.fit(X, Y, epochs=150, batch_size=10, verbose=0)\n",
        "\n",
        "# evaluate the model on training data\n",
        "scores = model.evaluate(X, Y, verbose=0)\n",
        "print(\"%s: %.2f%%\" % (model.metrics_names[1], scores[1]*100))\n",
        "\n",
        "# serialize model to JSON\n",
        "model_json = model.to_json()\n",
        "with open(\"model.json\", \"w\") as json_file:\n",
        "    json_file.write(model_json)\n",
        "    \n",
        "# serialize weights to HDF5\n",
        "model.save_weights(\"model.h5\")\n",
        "print(\"Saved model to disk\")"
      ],
      "execution_count": null,
      "outputs": [
        {
          "output_type": "stream",
          "name": "stdout",
          "text": [
            "accuracy: 76.69%\n",
            "Saved model to disk\n"
          ]
        }
      ]
    },
    {
      "cell_type": "markdown",
      "metadata": {
        "id": "zR43GAF_VTCW"
      },
      "source": [
        "### Load model from disk and use it\n",
        "\n",
        "After the model was serialized to JSON format and saved on the disk, we can use the `model_from_json` function to load the model's architecture again and then load the weights using `load_weights` function. \n",
        "\n",
        "Once the model's topology is defined and the weights are loaded, we can use the model for evaluation but we have to make sure to compile it first!"
      ]
    },
    {
      "cell_type": "code",
      "metadata": {
        "id": "TcHLNgeaVWbz",
        "colab": {
          "base_uri": "https://localhost:8080/"
        },
        "outputId": "e5e18077-7ebe-4724-c82e-eb73b6af10ae"
      },
      "source": [
        "# load json and create model\n",
        "json_file = open('model.json', 'r')\n",
        "loaded_model_json = json_file.read()\n",
        "json_file.close()\n",
        "loaded_model = model_from_json(loaded_model_json)\n",
        "\n",
        "# load weights into new model\n",
        "loaded_model.load_weights(\"model.h5\")\n",
        "print(\"Loaded model from disk\")\n",
        "\n",
        "# don't forget to compile the model!\n",
        "loaded_model.compile(loss='binary_crossentropy', optimizer='adam', metrics=['accuracy'])\n",
        "\n",
        "# evaluate loaded model on training data\n",
        "score = loaded_model.evaluate(X, Y, verbose=0)\n",
        "print(\"%s: %.2f%%\" % (loaded_model.metrics_names[1], score[1]*100))"
      ],
      "execution_count": null,
      "outputs": [
        {
          "output_type": "stream",
          "name": "stdout",
          "text": [
            "Loaded model from disk\n",
            "accuracy: 76.69%\n"
          ]
        }
      ]
    },
    {
      "cell_type": "markdown",
      "metadata": {
        "id": "GP6tWzGrryhC"
      },
      "source": [
        "## Checkpoint Neural Network Model Improvements\n",
        "\n",
        "Let's start by importing the necessary libraries, loading the Pima Indians dataset and then splitting the data into input variables (X) and output variable (Y)."
      ]
    },
    {
      "cell_type": "code",
      "metadata": {
        "id": "XOTAMt_WZGnr"
      },
      "source": [
        "from tensorflow.keras.models import Sequential\n",
        "from tensorflow.keras.layers import Dense\n",
        "from tensorflow.keras.callbacks import ModelCheckpoint\n",
        "import numpy\n",
        "\n",
        "# load pima indians dataset\n",
        "dataset = numpy.loadtxt(\"pima-indians-diabetes.csv\", delimiter=\",\")\n",
        "\n",
        "# split into input (X) and output (Y) variables\n",
        "X = dataset[:,0:8]\n",
        "Y = dataset[:,8]"
      ],
      "execution_count": null,
      "outputs": []
    },
    {
      "cell_type": "markdown",
      "metadata": {
        "id": "bH57GX_ZZYHb"
      },
      "source": [
        "Let's define a `create_model` function to create and return the model.\n"
      ]
    },
    {
      "cell_type": "code",
      "metadata": {
        "id": "qyTGzCcoZPlh"
      },
      "source": [
        "def create_model():\n",
        "  # create model\n",
        "  model = Sequential()\n",
        "  model.add(Dense(12, input_dim=8, kernel_initializer='uniform', activation='relu'))\n",
        "  model.add(Dense(8, kernel_initializer='uniform', activation='relu'))\n",
        "  model.add(Dense(1, kernel_initializer='uniform', activation='sigmoid'))\n",
        "\n",
        "  # Compile model\n",
        "  model.compile(loss='binary_crossentropy', optimizer='adam', metrics=['accuracy'])\n",
        "\n",
        "  return model"
      ],
      "execution_count": null,
      "outputs": []
    },
    {
      "cell_type": "markdown",
      "metadata": {
        "id": "w9v5gAm9Ze1d"
      },
      "source": [
        "Initialize the ModelCheckpoint callback and pass it to the `model.fit()` function"
      ]
    },
    {
      "cell_type": "code",
      "metadata": {
        "id": "lQi_GMDlqpc7",
        "colab": {
          "base_uri": "https://localhost:8080/"
        },
        "outputId": "21fbeca6-4efc-459f-d2c7-1ebb0edde855"
      },
      "source": [
        "# define the checkpoint's name that includes the index of the epoch and the validation accuracy\n",
        "filepath=\"weights-improvement-{epoch:02d}-{val_accuracy:.2f}.hdf5\"\n",
        "\n",
        "# create an instance of ModelCheckpoint\n",
        "checkpoint = ModelCheckpoint(filepath, monitor='val_accuracy', verbose=1, save_best_only=True, mode='max')\n",
        "callbacks_list = [checkpoint]\n",
        "\n",
        "# create the model\n",
        "model = create_model()\n",
        "\n",
        "# fit the model with the callbacks list\n",
        "model.fit(X, Y, validation_split=0.33, epochs=50, batch_size=10, callbacks=callbacks_list, verbose=0)\n"
      ],
      "execution_count": null,
      "outputs": [
        {
          "output_type": "stream",
          "name": "stdout",
          "text": [
            "\n",
            "Epoch 00001: val_accuracy improved from -inf to 0.67323, saving model to weights-improvement-01-0.67.hdf5\n",
            "\n",
            "Epoch 00002: val_accuracy did not improve from 0.67323\n",
            "\n",
            "Epoch 00003: val_accuracy did not improve from 0.67323\n",
            "\n",
            "Epoch 00004: val_accuracy improved from 0.67323 to 0.68110, saving model to weights-improvement-04-0.68.hdf5\n",
            "\n",
            "Epoch 00005: val_accuracy improved from 0.68110 to 0.68898, saving model to weights-improvement-05-0.69.hdf5\n",
            "\n",
            "Epoch 00006: val_accuracy did not improve from 0.68898\n",
            "\n",
            "Epoch 00007: val_accuracy did not improve from 0.68898\n",
            "\n",
            "Epoch 00008: val_accuracy did not improve from 0.68898\n",
            "\n",
            "Epoch 00009: val_accuracy did not improve from 0.68898\n",
            "\n",
            "Epoch 00010: val_accuracy improved from 0.68898 to 0.69685, saving model to weights-improvement-10-0.70.hdf5\n",
            "\n",
            "Epoch 00011: val_accuracy did not improve from 0.69685\n",
            "\n",
            "Epoch 00012: val_accuracy did not improve from 0.69685\n",
            "\n",
            "Epoch 00013: val_accuracy did not improve from 0.69685\n",
            "\n",
            "Epoch 00014: val_accuracy did not improve from 0.69685\n",
            "\n",
            "Epoch 00015: val_accuracy did not improve from 0.69685\n",
            "\n",
            "Epoch 00016: val_accuracy did not improve from 0.69685\n",
            "\n",
            "Epoch 00017: val_accuracy did not improve from 0.69685\n",
            "\n",
            "Epoch 00018: val_accuracy did not improve from 0.69685\n",
            "\n",
            "Epoch 00019: val_accuracy did not improve from 0.69685\n",
            "\n",
            "Epoch 00020: val_accuracy improved from 0.69685 to 0.70079, saving model to weights-improvement-20-0.70.hdf5\n",
            "\n",
            "Epoch 00021: val_accuracy did not improve from 0.70079\n",
            "\n",
            "Epoch 00022: val_accuracy did not improve from 0.70079\n",
            "\n",
            "Epoch 00023: val_accuracy did not improve from 0.70079\n",
            "\n",
            "Epoch 00024: val_accuracy did not improve from 0.70079\n",
            "\n",
            "Epoch 00025: val_accuracy did not improve from 0.70079\n",
            "\n",
            "Epoch 00026: val_accuracy did not improve from 0.70079\n",
            "\n",
            "Epoch 00027: val_accuracy did not improve from 0.70079\n",
            "\n",
            "Epoch 00028: val_accuracy did not improve from 0.70079\n",
            "\n",
            "Epoch 00029: val_accuracy did not improve from 0.70079\n",
            "\n",
            "Epoch 00030: val_accuracy did not improve from 0.70079\n",
            "\n",
            "Epoch 00031: val_accuracy did not improve from 0.70079\n",
            "\n",
            "Epoch 00032: val_accuracy did not improve from 0.70079\n",
            "\n",
            "Epoch 00033: val_accuracy did not improve from 0.70079\n",
            "\n",
            "Epoch 00034: val_accuracy did not improve from 0.70079\n",
            "\n",
            "Epoch 00035: val_accuracy did not improve from 0.70079\n",
            "\n",
            "Epoch 00036: val_accuracy did not improve from 0.70079\n",
            "\n",
            "Epoch 00037: val_accuracy did not improve from 0.70079\n",
            "\n",
            "Epoch 00038: val_accuracy did not improve from 0.70079\n",
            "\n",
            "Epoch 00039: val_accuracy did not improve from 0.70079\n",
            "\n",
            "Epoch 00040: val_accuracy improved from 0.70079 to 0.70472, saving model to weights-improvement-40-0.70.hdf5\n",
            "\n",
            "Epoch 00041: val_accuracy improved from 0.70472 to 0.72047, saving model to weights-improvement-41-0.72.hdf5\n",
            "\n",
            "Epoch 00042: val_accuracy did not improve from 0.72047\n",
            "\n",
            "Epoch 00043: val_accuracy did not improve from 0.72047\n",
            "\n",
            "Epoch 00044: val_accuracy did not improve from 0.72047\n",
            "\n",
            "Epoch 00045: val_accuracy did not improve from 0.72047\n",
            "\n",
            "Epoch 00046: val_accuracy did not improve from 0.72047\n",
            "\n",
            "Epoch 00047: val_accuracy did not improve from 0.72047\n",
            "\n",
            "Epoch 00048: val_accuracy did not improve from 0.72047\n",
            "\n",
            "Epoch 00049: val_accuracy did not improve from 0.72047\n",
            "\n",
            "Epoch 00050: val_accuracy did not improve from 0.72047\n"
          ]
        },
        {
          "output_type": "execute_result",
          "data": {
            "text/plain": [
              "<keras.callbacks.History at 0x7fec49d65490>"
            ]
          },
          "metadata": {},
          "execution_count": 6
        }
      ]
    },
    {
      "cell_type": "markdown",
      "metadata": {
        "id": "5AF4gbe3r35x"
      },
      "source": [
        "## Checkpoint Best Neural Network Model Only\n",
        "\n",
        "Instead of saving a new copy of the model every time the monitored value improves, we can save only 1 model checkpoint by specifying a fixed name for the checkpoint. "
      ]
    },
    {
      "cell_type": "code",
      "metadata": {
        "id": "ElnfgOiJr6YB",
        "colab": {
          "base_uri": "https://localhost:8080/"
        },
        "outputId": "124ed4a3-25aa-4eb7-c8be-c8969a5a6a3c"
      },
      "source": [
        "# fixed checkpoint name\n",
        "filepath=\"weights_best.hdf5\"\n",
        "checkpoint = ModelCheckpoint(filepath, monitor='val_accuracy', verbose=1, save_best_only=True, mode='max')\n",
        "callbacks_list = [checkpoint]\n",
        "\n",
        "# create the model\n",
        "model = create_model()\n",
        "\n",
        "# fit the model\n",
        "model.fit(X, Y, validation_split=0.33, epochs=50, batch_size=10, callbacks=callbacks_list, verbose=0)"
      ],
      "execution_count": null,
      "outputs": [
        {
          "output_type": "stream",
          "name": "stdout",
          "text": [
            "\n",
            "Epoch 00001: val_accuracy improved from -inf to 0.67323, saving model to weights_best.hdf5\n",
            "\n",
            "Epoch 00002: val_accuracy did not improve from 0.67323\n",
            "\n",
            "Epoch 00003: val_accuracy did not improve from 0.67323\n",
            "\n",
            "Epoch 00004: val_accuracy improved from 0.67323 to 0.68504, saving model to weights_best.hdf5\n",
            "\n",
            "Epoch 00005: val_accuracy did not improve from 0.68504\n",
            "\n",
            "Epoch 00006: val_accuracy did not improve from 0.68504\n",
            "\n",
            "Epoch 00007: val_accuracy did not improve from 0.68504\n",
            "\n",
            "Epoch 00008: val_accuracy improved from 0.68504 to 0.68898, saving model to weights_best.hdf5\n",
            "\n",
            "Epoch 00009: val_accuracy did not improve from 0.68898\n",
            "\n",
            "Epoch 00010: val_accuracy did not improve from 0.68898\n",
            "\n",
            "Epoch 00011: val_accuracy did not improve from 0.68898\n",
            "\n",
            "Epoch 00012: val_accuracy did not improve from 0.68898\n",
            "\n",
            "Epoch 00013: val_accuracy did not improve from 0.68898\n",
            "\n",
            "Epoch 00014: val_accuracy did not improve from 0.68898\n",
            "\n",
            "Epoch 00015: val_accuracy did not improve from 0.68898\n",
            "\n",
            "Epoch 00016: val_accuracy did not improve from 0.68898\n",
            "\n",
            "Epoch 00017: val_accuracy did not improve from 0.68898\n",
            "\n",
            "Epoch 00018: val_accuracy did not improve from 0.68898\n",
            "\n",
            "Epoch 00019: val_accuracy did not improve from 0.68898\n",
            "\n",
            "Epoch 00020: val_accuracy did not improve from 0.68898\n",
            "\n",
            "Epoch 00021: val_accuracy did not improve from 0.68898\n",
            "\n",
            "Epoch 00022: val_accuracy did not improve from 0.68898\n",
            "\n",
            "Epoch 00023: val_accuracy did not improve from 0.68898\n",
            "\n",
            "Epoch 00024: val_accuracy did not improve from 0.68898\n",
            "\n",
            "Epoch 00025: val_accuracy did not improve from 0.68898\n",
            "\n",
            "Epoch 00026: val_accuracy did not improve from 0.68898\n",
            "\n",
            "Epoch 00027: val_accuracy improved from 0.68898 to 0.70079, saving model to weights_best.hdf5\n",
            "\n",
            "Epoch 00028: val_accuracy did not improve from 0.70079\n",
            "\n",
            "Epoch 00029: val_accuracy did not improve from 0.70079\n",
            "\n",
            "Epoch 00030: val_accuracy did not improve from 0.70079\n",
            "\n",
            "Epoch 00031: val_accuracy did not improve from 0.70079\n",
            "\n",
            "Epoch 00032: val_accuracy did not improve from 0.70079\n",
            "\n",
            "Epoch 00033: val_accuracy did not improve from 0.70079\n",
            "\n",
            "Epoch 00034: val_accuracy did not improve from 0.70079\n",
            "\n",
            "Epoch 00035: val_accuracy did not improve from 0.70079\n",
            "\n",
            "Epoch 00036: val_accuracy did not improve from 0.70079\n",
            "\n",
            "Epoch 00037: val_accuracy did not improve from 0.70079\n",
            "\n",
            "Epoch 00038: val_accuracy did not improve from 0.70079\n",
            "\n",
            "Epoch 00039: val_accuracy did not improve from 0.70079\n",
            "\n",
            "Epoch 00040: val_accuracy did not improve from 0.70079\n",
            "\n",
            "Epoch 00041: val_accuracy did not improve from 0.70079\n",
            "\n",
            "Epoch 00042: val_accuracy did not improve from 0.70079\n",
            "\n",
            "Epoch 00043: val_accuracy did not improve from 0.70079\n",
            "\n",
            "Epoch 00044: val_accuracy did not improve from 0.70079\n",
            "\n",
            "Epoch 00045: val_accuracy did not improve from 0.70079\n",
            "\n",
            "Epoch 00046: val_accuracy did not improve from 0.70079\n",
            "\n",
            "Epoch 00047: val_accuracy did not improve from 0.70079\n",
            "\n",
            "Epoch 00048: val_accuracy did not improve from 0.70079\n",
            "\n",
            "Epoch 00049: val_accuracy did not improve from 0.70079\n",
            "\n",
            "Epoch 00050: val_accuracy did not improve from 0.70079\n"
          ]
        },
        {
          "output_type": "execute_result",
          "data": {
            "text/plain": [
              "<keras.callbacks.History at 0x7fec49baab10>"
            ]
          },
          "metadata": {},
          "execution_count": 7
        }
      ]
    },
    {
      "cell_type": "markdown",
      "metadata": {
        "id": "7DuVZXh5ORkT"
      },
      "source": [
        "## Load and use weights from a checkpoint\n",
        "\n",
        "Now that we have saved the best model weights, let's see how we can load and re-use them.\n"
      ]
    },
    {
      "cell_type": "code",
      "metadata": {
        "id": "Yni7DxMpOWoT",
        "colab": {
          "base_uri": "https://localhost:8080/"
        },
        "outputId": "ef2b40d3-1c37-48a7-b23a-e8873d9aa5da"
      },
      "source": [
        "from tensorflow.keras.models import Sequential\n",
        "from tensorflow.keras.layers import Dense\n",
        "import numpy\n",
        "\n",
        "# create model with same architecture!\n",
        "model = Sequential()\n",
        "model.add(Dense(12, input_dim=8, kernel_initializer='uniform', activation='relu'))\n",
        "model.add(Dense(8, kernel_initializer='uniform', activation='relu'))\n",
        "model.add(Dense(1, kernel_initializer='uniform', activation='sigmoid'))\n",
        "\n",
        "# load best weights\n",
        "model.load_weights(\"weights_best.hdf5\")\n",
        "\n",
        "# compile model (required to make predictions)\n",
        "model.compile(loss='binary_crossentropy', optimizer='adam', metrics=['accuracy'])\n",
        "print(\"Created model and loaded weights from file\")\n",
        "\n",
        "# load pima indians dataset\n",
        "dataset = numpy.loadtxt(\"pima-indians-diabetes.csv\", delimiter=\",\")\n",
        "\n",
        "# split into input (X) and output (Y) variables\n",
        "X = dataset[:,0:8]\n",
        "Y = dataset[:,8]\n",
        "\n",
        "# estimate accuracy on whole dataset using loaded weights\n",
        "scores = model.evaluate(X, Y, verbose=0)\n",
        "print(\"%s: %.2f%%\" % (model.metrics_names[1], scores[1]*100))\n"
      ],
      "execution_count": null,
      "outputs": [
        {
          "output_type": "stream",
          "name": "stdout",
          "text": [
            "Created model and loaded weights from file\n",
            "accuracy: 67.84%\n"
          ]
        }
      ]
    },
    {
      "cell_type": "markdown",
      "metadata": {
        "id": "BDVd6nZAZzsS"
      },
      "source": [
        "## Visualize model training history\n",
        "\n",
        "Another concept discussed in this lesson is the model training history. When calling the `model.fit()` function, we can retrieve the training history and use that to visualize the training process."
      ]
    },
    {
      "cell_type": "code",
      "metadata": {
        "id": "eMd8XnOAZ4a8",
        "colab": {
          "base_uri": "https://localhost:8080/",
          "height": 590
        },
        "outputId": "16fff06f-b78f-4b5c-aa30-8a65877d62c9"
      },
      "source": [
        "from tensorflow.keras.models import Sequential\n",
        "from tensorflow.keras.layers import Dense\n",
        "import matplotlib.pyplot as plt\n",
        "import numpy\n",
        "\n",
        "# load pima indians dataset\n",
        "dataset = numpy.loadtxt(\"pima-indians-diabetes.csv\", delimiter=\",\")\n",
        "\n",
        "# split into input (X) and output (Y) variables\n",
        "X = dataset[:,0:8]\n",
        "Y = dataset[:,8]\n",
        "\n",
        "# create model\n",
        "model = Sequential()\n",
        "model.add(Dense(12, input_dim=8, kernel_initializer='uniform', activation='relu'))\n",
        "model.add(Dense(8, kernel_initializer='uniform', activation='relu'))\n",
        "model.add(Dense(1, kernel_initializer='uniform', activation='sigmoid'))\n",
        "\n",
        "# Compile model\n",
        "model.compile(loss='binary_crossentropy', optimizer='adam', metrics=['accuracy'])\n",
        "\n",
        "# Fit the model and retrieve the training history\n",
        "training_history = model.fit(X, Y, validation_split=0.33, epochs=150, batch_size=10, verbose=0)\n",
        "\n",
        "# list all data in history\n",
        "print(training_history.history.keys())\n",
        "\n",
        "# summarize history for training and validation accuracy\n",
        "plt.plot(training_history.history['accuracy'])\n",
        "plt.plot(training_history.history['val_accuracy'])\n",
        "plt.title('model accuracy')\n",
        "plt.ylabel('accuracy')\n",
        "plt.xlabel('epoch')\n",
        "plt.legend(['train', 'test'], loc='upper left')\n",
        "plt.show()\n",
        "\n",
        "# summarize history for training and validation loss\n",
        "plt.plot(training_history.history['loss'])\n",
        "plt.plot(training_history.history['val_loss'])\n",
        "plt.title('model loss')\n",
        "plt.ylabel('loss')\n",
        "plt.xlabel('epoch')\n",
        "plt.legend(['train', 'test'], loc='upper left')\n",
        "plt.show()\n"
      ],
      "execution_count": null,
      "outputs": [
        {
          "output_type": "stream",
          "name": "stdout",
          "text": [
            "dict_keys(['loss', 'accuracy', 'val_loss', 'val_accuracy'])\n"
          ]
        },
        {
          "output_type": "display_data",
          "data": {
            "image/png": "[encoded data removed]",
            "text/plain": [
              "<Figure size 432x288 with 1 Axes>"
            ]
          },
          "metadata": {
            "needs_background": "light"
          }
        },
        {
          "output_type": "display_data",
          "data": {
            "image/png": "[encoded data removed]",
            "text/plain": [
              "<Figure size 432x288 with 1 Axes>"
            ]
          },
          "metadata": {
            "needs_background": "light"
          }
        }
      ]
    },
    {
      "cell_type": "markdown",
      "metadata": {
        "id": "4k7IsG9ZgjrB"
      },
      "source": [
        "## Time-based Learning rate schedule\n",
        "\n",
        "Adjusting the learning rate while training can lead to better convergence of the model. One method that was covered in the lesson's slides is the Time-based learning rate schedule. \n",
        "\n",
        "To achieve that, we can create an instance of the SGD (Stochastic Gradient Descent) class and customize the parameters. Specifically, we have to set the `decay_rate` parameter to have the value of `learning_rate / epochs` which will guarantee that our learning rate will reach 0 when the training finishes."
      ]
    },
    {
      "cell_type": "code",
      "metadata": {
        "id": "JkuUR8nRgo26",
        "colab": {
          "base_uri": "https://localhost:8080/"
        },
        "outputId": "7f937ed4-29bf-42cf-a38d-e5b94e8d8e64"
      },
      "source": [
        "from tensorflow.keras.models import Sequential\n",
        "from tensorflow.keras.layers import Dense\n",
        "from tensorflow.keras.optimizers import SGD\n",
        "import matplotlib.pyplot as plt\n",
        "import numpy\n",
        "\n",
        "# load pima indians dataset\n",
        "dataset = numpy.loadtxt(\"pima-indians-diabetes.csv\", delimiter=\",\")\n",
        "\n",
        "# split into input (X) and output (Y) variables\n",
        "X = dataset[:,0:8]\n",
        "Y = dataset[:,8]\n",
        "\n",
        "# create model\n",
        "model = Sequential()\n",
        "model.add(Dense(12, input_dim=8, activation='relu'))\n",
        "model.add(Dense(1, activation='sigmoid'))\n",
        "\n",
        "# define the SGD's parameters\n",
        "epochs = 50\n",
        "learning_rate = 0.001\n",
        "decay_rate = learning_rate / epochs\n",
        "momentum = 0.01\n",
        "\n",
        "# create a new instance of SGD class with custom parameters\n",
        "sgd = SGD(lr=learning_rate, momentum=momentum, decay=decay_rate, nesterov=False)\n",
        "\n",
        "# compile model while passing the custom SGD class\n",
        "model.compile(loss='binary_crossentropy', optimizer=sgd, metrics=['accuracy'])\n",
        "\n",
        "# fit the model\n",
        "model.fit(X, Y, validation_split=0.33, epochs=50, batch_size=10, verbose=1)"
      ],
      "execution_count": null,
      "outputs": [
        {
          "output_type": "stream",
          "name": "stderr",
          "text": [
            "/usr/local/lib/python3.7/dist-packages/keras/optimizer_v2/optimizer_v2.py:356: UserWarning: The `lr` argument is deprecated, use `learning_rate` instead.\n",
            "  \"The `lr` argument is deprecated, use `learning_rate` instead.\")\n"
          ]
        },
        {
          "output_type": "stream",
          "name": "stdout",
          "text": [
            "Epoch 1/50\n",
            "52/52 [==============================] - 1s 4ms/step - loss: 4.1812 - accuracy: 0.5467 - val_loss: 1.6423 - val_accuracy: 0.4764\n",
            "Epoch 2/50\n",
            "52/52 [==============================] - 0s 2ms/step - loss: 1.5118 - accuracy: 0.5953 - val_loss: 1.2939 - val_accuracy: 0.5669\n",
            "Epoch 3/50\n",
            "52/52 [==============================] - 0s 2ms/step - loss: 1.1591 - accuracy: 0.6148 - val_loss: 1.3322 - val_accuracy: 0.6299\n",
            "Epoch 4/50\n",
            "52/52 [==============================] - 0s 2ms/step - loss: 1.0422 - accuracy: 0.6401 - val_loss: 1.9149 - val_accuracy: 0.3898\n",
            "Epoch 5/50\n",
            "52/52 [==============================] - 0s 2ms/step - loss: 0.9472 - accuracy: 0.6323 - val_loss: 0.8214 - val_accuracy: 0.5591\n",
            "Epoch 6/50\n",
            "52/52 [==============================] - 0s 2ms/step - loss: 0.8529 - accuracy: 0.6634 - val_loss: 0.7428 - val_accuracy: 0.5827\n",
            "Epoch 7/50\n",
            "52/52 [==============================] - 0s 3ms/step - loss: 0.8352 - accuracy: 0.6148 - val_loss: 0.7548 - val_accuracy: 0.5630\n",
            "Epoch 8/50\n",
            "52/52 [==============================] - 0s 2ms/step - loss: 0.7358 - accuracy: 0.6673 - val_loss: 0.7253 - val_accuracy: 0.6378\n",
            "Epoch 9/50\n",
            "52/52 [==============================] - 0s 2ms/step - loss: 0.7875 - accuracy: 0.6128 - val_loss: 0.9355 - val_accuracy: 0.4961\n",
            "Epoch 10/50\n",
            "52/52 [==============================] - 0s 2ms/step - loss: 0.7651 - accuracy: 0.6167 - val_loss: 0.8264 - val_accuracy: 0.6732\n",
            "Epoch 11/50\n",
            "52/52 [==============================] - 0s 2ms/step - loss: 0.6803 - accuracy: 0.6459 - val_loss: 0.7240 - val_accuracy: 0.6496\n",
            "Epoch 12/50\n",
            "52/52 [==============================] - 0s 2ms/step - loss: 0.6815 - accuracy: 0.6518 - val_loss: 0.7875 - val_accuracy: 0.5354\n",
            "Epoch 13/50\n",
            "52/52 [==============================] - 0s 2ms/step - loss: 0.6698 - accuracy: 0.6459 - val_loss: 0.9389 - val_accuracy: 0.6614\n",
            "Epoch 14/50\n",
            "52/52 [==============================] - 0s 2ms/step - loss: 0.7074 - accuracy: 0.6323 - val_loss: 0.8928 - val_accuracy: 0.4803\n",
            "Epoch 15/50\n",
            "52/52 [==============================] - 0s 2ms/step - loss: 0.6821 - accuracy: 0.6342 - val_loss: 0.8897 - val_accuracy: 0.4803\n",
            "Epoch 16/50\n",
            "52/52 [==============================] - 0s 2ms/step - loss: 0.6694 - accuracy: 0.6265 - val_loss: 0.7292 - val_accuracy: 0.5748\n",
            "Epoch 17/50\n",
            "52/52 [==============================] - 0s 2ms/step - loss: 0.6724 - accuracy: 0.6518 - val_loss: 0.6784 - val_accuracy: 0.6575\n",
            "Epoch 18/50\n",
            "52/52 [==============================] - 0s 2ms/step - loss: 0.6484 - accuracy: 0.6459 - val_loss: 0.8193 - val_accuracy: 0.6693\n",
            "Epoch 19/50\n",
            "52/52 [==============================] - 0s 3ms/step - loss: 0.6459 - accuracy: 0.6381 - val_loss: 0.6812 - val_accuracy: 0.6299\n",
            "Epoch 20/50\n",
            "52/52 [==============================] - 0s 3ms/step - loss: 0.6486 - accuracy: 0.6323 - val_loss: 0.6745 - val_accuracy: 0.6811\n",
            "Epoch 21/50\n",
            "52/52 [==============================] - 0s 2ms/step - loss: 0.6432 - accuracy: 0.6459 - val_loss: 0.6597 - val_accuracy: 0.6575\n",
            "Epoch 22/50\n",
            "52/52 [==============================] - 0s 3ms/step - loss: 0.6338 - accuracy: 0.6712 - val_loss: 0.6877 - val_accuracy: 0.6693\n",
            "Epoch 23/50\n",
            "52/52 [==============================] - 0s 2ms/step - loss: 0.6397 - accuracy: 0.6615 - val_loss: 0.6766 - val_accuracy: 0.5906\n",
            "Epoch 24/50\n",
            "52/52 [==============================] - 0s 3ms/step - loss: 0.6267 - accuracy: 0.6693 - val_loss: 0.6932 - val_accuracy: 0.6614\n",
            "Epoch 25/50\n",
            "52/52 [==============================] - 0s 2ms/step - loss: 0.6336 - accuracy: 0.6537 - val_loss: 0.6729 - val_accuracy: 0.5866\n",
            "Epoch 26/50\n",
            "52/52 [==============================] - 0s 2ms/step - loss: 0.6396 - accuracy: 0.6401 - val_loss: 0.8702 - val_accuracy: 0.4764\n",
            "Epoch 27/50\n",
            "52/52 [==============================] - 0s 2ms/step - loss: 0.6311 - accuracy: 0.6498 - val_loss: 0.6901 - val_accuracy: 0.6535\n",
            "Epoch 28/50\n",
            "52/52 [==============================] - 0s 2ms/step - loss: 0.6656 - accuracy: 0.6265 - val_loss: 0.6901 - val_accuracy: 0.6772\n",
            "Epoch 29/50\n",
            "52/52 [==============================] - 0s 2ms/step - loss: 0.6361 - accuracy: 0.6732 - val_loss: 0.6709 - val_accuracy: 0.6811\n",
            "Epoch 30/50\n",
            "52/52 [==============================] - 0s 2ms/step - loss: 0.6148 - accuracy: 0.6634 - val_loss: 0.7124 - val_accuracy: 0.6457\n",
            "Epoch 31/50\n",
            "52/52 [==============================] - 0s 2ms/step - loss: 0.6192 - accuracy: 0.6479 - val_loss: 0.6590 - val_accuracy: 0.6102\n",
            "Epoch 32/50\n",
            "52/52 [==============================] - 0s 2ms/step - loss: 0.6254 - accuracy: 0.6381 - val_loss: 0.8581 - val_accuracy: 0.4764\n",
            "Epoch 33/50\n",
            "52/52 [==============================] - 0s 3ms/step - loss: 0.6205 - accuracy: 0.6615 - val_loss: 0.6575 - val_accuracy: 0.6417\n",
            "Epoch 34/50\n",
            "52/52 [==============================] - 0s 3ms/step - loss: 0.6259 - accuracy: 0.6518 - val_loss: 0.7487 - val_accuracy: 0.5472\n",
            "Epoch 35/50\n",
            "52/52 [==============================] - 0s 2ms/step - loss: 0.6254 - accuracy: 0.6401 - val_loss: 0.7573 - val_accuracy: 0.5512\n",
            "Epoch 36/50\n",
            "52/52 [==============================] - 0s 2ms/step - loss: 0.6192 - accuracy: 0.6518 - val_loss: 0.7277 - val_accuracy: 0.5472\n",
            "Epoch 37/50\n",
            "52/52 [==============================] - 0s 2ms/step - loss: 0.6208 - accuracy: 0.6615 - val_loss: 0.6514 - val_accuracy: 0.6614\n",
            "Epoch 38/50\n",
            "52/52 [==============================] - 0s 3ms/step - loss: 0.6128 - accuracy: 0.6459 - val_loss: 0.7267 - val_accuracy: 0.5709\n",
            "Epoch 39/50\n",
            "52/52 [==============================] - 0s 2ms/step - loss: 0.6128 - accuracy: 0.6654 - val_loss: 0.7066 - val_accuracy: 0.5748\n",
            "Epoch 40/50\n",
            "52/52 [==============================] - 0s 3ms/step - loss: 0.6150 - accuracy: 0.6615 - val_loss: 0.6519 - val_accuracy: 0.6535\n",
            "Epoch 41/50\n",
            "52/52 [==============================] - 0s 2ms/step - loss: 0.6206 - accuracy: 0.6576 - val_loss: 0.6792 - val_accuracy: 0.5748\n",
            "Epoch 42/50\n",
            "52/52 [==============================] - 0s 2ms/step - loss: 0.6149 - accuracy: 0.6712 - val_loss: 0.7448 - val_accuracy: 0.5669\n",
            "Epoch 43/50\n",
            "52/52 [==============================] - 0s 2ms/step - loss: 0.6210 - accuracy: 0.6673 - val_loss: 0.6846 - val_accuracy: 0.5906\n",
            "Epoch 44/50\n",
            "52/52 [==============================] - 0s 3ms/step - loss: 0.6174 - accuracy: 0.6595 - val_loss: 0.6663 - val_accuracy: 0.6417\n",
            "Epoch 45/50\n",
            "52/52 [==============================] - 0s 2ms/step - loss: 0.6136 - accuracy: 0.6498 - val_loss: 0.6572 - val_accuracy: 0.6850\n",
            "Epoch 46/50\n",
            "52/52 [==============================] - 0s 2ms/step - loss: 0.6044 - accuracy: 0.6712 - val_loss: 0.6777 - val_accuracy: 0.6811\n",
            "Epoch 47/50\n",
            "52/52 [==============================] - 0s 2ms/step - loss: 0.6091 - accuracy: 0.6634 - val_loss: 0.6606 - val_accuracy: 0.6850\n",
            "Epoch 48/50\n",
            "52/52 [==============================] - 0s 2ms/step - loss: 0.6087 - accuracy: 0.6732 - val_loss: 0.6462 - val_accuracy: 0.6732\n",
            "Epoch 49/50\n",
            "52/52 [==============================] - 0s 3ms/step - loss: 0.6013 - accuracy: 0.6654 - val_loss: 0.6513 - val_accuracy: 0.6614\n",
            "Epoch 50/50\n",
            "52/52 [==============================] - 0s 3ms/step - loss: 0.6118 - accuracy: 0.6673 - val_loss: 0.6561 - val_accuracy: 0.6890\n"
          ]
        },
        {
          "output_type": "execute_result",
          "data": {
            "text/plain": [
              "<keras.callbacks.History at 0x7fec49dc30d0>"
            ]
          },
          "metadata": {},
          "execution_count": 10
        }
      ]
    }
  ]
}