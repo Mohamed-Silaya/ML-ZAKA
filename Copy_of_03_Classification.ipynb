{
  "nbformat": 4,
  "nbformat_minor": 0,
  "metadata": {
    "colab": {
      "provenance": [],
      "include_colab_link": true
    },
    "kernelspec": {
      "name": "python3",
      "display_name": "Python 3"
    }
  },
  "cells": [
    {
      "cell_type": "markdown",
      "metadata": {
        "id": "view-in-github",
        "colab_type": "text"
      },
      "source": [
        "<a href=\"https://colab.research.google.com/github/Mohamed-Silaya/ML-ZAKA/blob/main/Copy_of_03_Classification.ipynb\" target=\"_parent\"><img src=\"https://colab.research.google.com/assets/colab-badge.svg\" alt=\"Open In Colab\"/></a>"
      ]
    },
    {
      "cell_type": "markdown",
      "metadata": {
        "id": "OCMaK16lt_mc"
      },
      "source": [
        "© 2021 Zaka AI, Inc. All Rights Reserved"
      ]
    },
    {
      "cell_type": "markdown",
      "metadata": {
        "id": "AwUowJNBDf3E"
      },
      "source": [
        "#Binary and Multi-class classification\n",
        "**Objective:** This notebook is comprised of two independent exercises: a multi-classication with Iris flower data and a binary classification with sonar data. The objective of the first exercise is to prepare data for a multiclassification model and training it. For the second, We will train and evaluate a binary classification model and learn how to apply standardization on a dataset and create a pipeline for evaluation of models."
      ]
    },
    {
      "cell_type": "code",
      "metadata": {
        "id": "3LmJvLAn6yMg",
        "colab": {
          "base_uri": "https://localhost:8080/"
        },
        "outputId": "39571599-d41d-4c30-dc36-1a6ac61f58da"
      },
      "source": [
        "# clone git repo\n",
        "!git clone https://github.com/zaka-ai/intro2dl.git\n",
        "\n",
        "# change directory\n",
        "%cd intro2dl/data/"
      ],
      "execution_count": 1,
      "outputs": [
        {
          "output_type": "stream",
          "name": "stdout",
          "text": [
            "Cloning into 'intro2dl'...\n",
            "remote: Enumerating objects: 16, done.\u001b[K\n",
            "remote: Counting objects: 100% (16/16), done.\u001b[K\n",
            "remote: Compressing objects: 100% (15/15), done.\u001b[K\n",
            "remote: Total 16 (delta 1), reused 7 (delta 0), pack-reused 0\u001b[K\n",
            "Unpacking objects: 100% (16/16), done.\n",
            "/content/intro2dl/data\n"
          ]
        }
      ]
    },
    {
      "cell_type": "markdown",
      "metadata": {
        "id": "yV7goI5hEJ5G"
      },
      "source": [
        "## Multi-class classification with Iris Dataset"
      ]
    },
    {
      "cell_type": "markdown",
      "metadata": {
        "id": "x3PehS5h75-e"
      },
      "source": [
        "### 1. Load data\n",
        "\n",
        "In this notebook, we are going to use the [**Iris flower** dataset](https://archive.ics.uci.edu/ml/datasets/Iris). This is another standard machine learning dataset from the UCI Machine Learning repository. Each instance describes the properties of an observed flower measurements and the output variable is specific iris species.\n",
        "\n",
        "This is a multi-class classification problem, meaning that there are more than two classes to be predicted, in fact there are three flower species.\n",
        "\n",
        "The variables can be summarized as follows:\n",
        "\n",
        "**Input Variables (X):**\n",
        "\n",
        "\n",
        "1. Sepal length in cm\n",
        "2. Sepal width in cm\n",
        "3. Petal length in cm\n",
        "4. Petal width in cm\n",
        "\n",
        "**Output Variable (Y):**\n",
        "\n",
        "*   Class:\n",
        " - Iris Setosa\n",
        " - Iris Versicolour\n",
        " - Iris Virginica\n",
        "\n",
        "\n"
      ]
    },
    {
      "cell_type": "code",
      "metadata": {
        "id": "6493eiB-71lx"
      },
      "source": [
        "from pandas import read_csv\n",
        "\n",
        "# load dataset\n",
        "dataframe = read_csv(\"iris.csv\", header=None)\n",
        "dataset = dataframe.values\n",
        "\n",
        "# split X and Y features\n",
        "X = dataset[:,0:4].astype(float)\n",
        "Y = dataset[:,4]\n"
      ],
      "execution_count": 2,
      "outputs": []
    },
    {
      "cell_type": "markdown",
      "metadata": {
        "id": "WQbqVaPU914x"
      },
      "source": [
        "### 2. Encode the output variable\n"
      ]
    },
    {
      "cell_type": "code",
      "metadata": {
        "id": "CV0OrrICMSej"
      },
      "source": [
        "from sklearn.preprocessing import LabelEncoder\n",
        "from tensorflow.keras.utils import to_categorical\n",
        "\n",
        "# encode class values as integers\n",
        "encoder = LabelEncoder()\n",
        "encoder.fit(Y)\n",
        "encoded_Y = encoder.transform(Y)\n",
        "\n",
        "# convert integers to dummy variables (i.e. one hot encoded)\n",
        "dummy_y = to_categorical(encoded_Y)"
      ],
      "execution_count": 6,
      "outputs": []
    },
    {
      "cell_type": "markdown",
      "metadata": {
        "id": "a-4v8_6v-BDj"
      },
      "source": [
        "### 3. Define Keras Model\n",
        "\n",
        "Create a Keras Sequential model that has 1 hidden layers, with the `relu` activation function. \n",
        "\n",
        "We should define a `create_model()` funtion that will create the model, compile it and return it."
      ]
    },
    {
      "cell_type": "code",
      "metadata": {
        "id": "t9GhvIx0973_"
      },
      "source": [
        "from tensorflow.keras.models import Sequential\n",
        "from tensorflow.keras.layers import Dense\n",
        "\n",
        "# define baseline model\n",
        "def create_model():\n",
        "\t# create model\n",
        "\tmodel = Sequential()\n",
        "\tmodel.add(Dense(10, input_dim=(4), activation='relu'))\n",
        "\tmodel.add(Dense(3, activation='softmax'))\n",
        "  \n",
        "\t# Compile model\n",
        "\tmodel.compile(optimizer='sgd', loss='categorical_crossentropy', metrics=['accuracy'])\n",
        "  \n",
        "\treturn model"
      ],
      "execution_count": 7,
      "outputs": []
    },
    {
      "cell_type": "markdown",
      "metadata": {
        "id": "Sbapy2_R-ohc"
      },
      "source": [
        "### 4. Train Model\n",
        "\n",
        "Let's train the model for 20 epochs with batch size equals to 5."
      ]
    },
    {
      "cell_type": "code",
      "metadata": {
        "id": "ivmHGOKN-t4k",
        "colab": {
          "base_uri": "https://localhost:8080/"
        },
        "outputId": "c9d34d27-d13e-431e-81ef-1017d192e636"
      },
      "source": [
        "model = create_model()\n",
        "model.fit(X, dummy_y, epochs=20, batch_size=5)"
      ],
      "execution_count": 8,
      "outputs": [
        {
          "output_type": "stream",
          "name": "stdout",
          "text": [
            "Epoch 1/20\n",
            "30/30 [==============================] - 1s 1ms/step - loss: 1.1037 - accuracy: 0.4400\n",
            "Epoch 2/20\n",
            "30/30 [==============================] - 0s 1ms/step - loss: 0.7744 - accuracy: 0.7200\n",
            "Epoch 3/20\n",
            "30/30 [==============================] - 0s 1ms/step - loss: 0.6544 - accuracy: 0.6933\n",
            "Epoch 4/20\n",
            "30/30 [==============================] - 0s 1ms/step - loss: 0.5531 - accuracy: 0.7267\n",
            "Epoch 5/20\n",
            "30/30 [==============================] - 0s 1ms/step - loss: 0.4877 - accuracy: 0.7933\n",
            "Epoch 6/20\n",
            "30/30 [==============================] - 0s 1ms/step - loss: 0.4259 - accuracy: 0.8867\n",
            "Epoch 7/20\n",
            "30/30 [==============================] - 0s 1ms/step - loss: 0.3861 - accuracy: 0.8800\n",
            "Epoch 8/20\n",
            "30/30 [==============================] - 0s 2ms/step - loss: 0.4028 - accuracy: 0.8400\n",
            "Epoch 9/20\n",
            "30/30 [==============================] - 0s 1ms/step - loss: 0.3787 - accuracy: 0.8733\n",
            "Epoch 10/20\n",
            "30/30 [==============================] - 0s 1ms/step - loss: 0.3505 - accuracy: 0.9000\n",
            "Epoch 11/20\n",
            "30/30 [==============================] - 0s 1ms/step - loss: 0.3308 - accuracy: 0.9267\n",
            "Epoch 12/20\n",
            "30/30 [==============================] - 0s 1ms/step - loss: 0.3213 - accuracy: 0.9000\n",
            "Epoch 13/20\n",
            "30/30 [==============================] - 0s 1ms/step - loss: 0.3098 - accuracy: 0.9200\n",
            "Epoch 14/20\n",
            "30/30 [==============================] - 0s 1ms/step - loss: 0.2967 - accuracy: 0.9267\n",
            "Epoch 15/20\n",
            "30/30 [==============================] - 0s 1ms/step - loss: 0.2829 - accuracy: 0.9400\n",
            "Epoch 16/20\n",
            "30/30 [==============================] - 0s 1ms/step - loss: 0.2753 - accuracy: 0.9267\n",
            "Epoch 17/20\n",
            "30/30 [==============================] - 0s 1ms/step - loss: 0.2621 - accuracy: 0.9200\n",
            "Epoch 18/20\n",
            "30/30 [==============================] - 0s 1ms/step - loss: 0.2517 - accuracy: 0.9267\n",
            "Epoch 19/20\n",
            "30/30 [==============================] - 0s 1ms/step - loss: 0.2385 - accuracy: 0.9400\n",
            "Epoch 20/20\n",
            "30/30 [==============================] - 0s 2ms/step - loss: 0.2239 - accuracy: 0.9667\n"
          ]
        },
        {
          "output_type": "execute_result",
          "data": {
            "text/plain": [
              "<keras.callbacks.History at 0x7f1a331248d0>"
            ]
          },
          "metadata": {},
          "execution_count": 8
        }
      ]
    },
    {
      "cell_type": "markdown",
      "metadata": {
        "id": "Nle1n0RuESpH"
      },
      "source": [
        "## Binary Classification with Sonar Dataset"
      ]
    },
    {
      "cell_type": "markdown",
      "metadata": {
        "id": "y1AAzP8rDMhO"
      },
      "source": [
        "### 1. Load dataset\n",
        "\n",
        "The dataset we will use in this tutorial is the [Sonar dataset](https://archive.ics.uci.edu/ml/datasets/Connectionist+Bench+(Sonar,+Mines+vs.+Rocks)).\n",
        "\n",
        "This is a dataset that describes sonar chirp returns bouncing off different services. The 60 input variables are the strength of the returns at different angles. It is a binary classification problem that requires a model to differentiate rocks from metal cylinders.\n",
        "\n",
        "It is a well-understood dataset. All of the variables are continuous and generally in the range of 0 to 1. The output variable is a string “M” for mine and “R” for rock, which will need to be converted to integers 1 and 0."
      ]
    },
    {
      "cell_type": "code",
      "metadata": {
        "id": "Lbz99VsDCssb"
      },
      "source": [
        "# Binary Classification with Sonar Dataset: Baseline\n",
        "\n",
        "from pandas import read_csv\n",
        "# load dataset\n",
        "dataframe = read_csv(\"sonar.csv\", header=None)\n",
        "dataset = dataframe.values\n",
        "\n",
        "# split into input (X) and output (Y) variables\n",
        "X = dataset[:,0:60].astype(float)\n",
        "Y = dataset[:,60]"
      ],
      "execution_count": 9,
      "outputs": []
    },
    {
      "cell_type": "markdown",
      "metadata": {
        "id": "FFfJu1sXLl2X"
      },
      "source": [
        "### 2. Encode output variable\n"
      ]
    },
    {
      "cell_type": "code",
      "metadata": {
        "id": "OzI15A8ELoYC"
      },
      "source": [
        "from sklearn.preprocessing import LabelEncoder\n",
        "\n",
        "# encode class values as integers\n",
        "encoder = LabelEncoder()\n",
        "encoder.fit(Y)\n",
        "encoded_Y = encoder.transform(Y)"
      ],
      "execution_count": 10,
      "outputs": []
    },
    {
      "cell_type": "markdown",
      "metadata": {
        "id": "0hhB461HLtjw"
      },
      "source": [
        "### 3. Define Keras Model\n",
        "\n",
        "Create a Keras model with 1 hidden layer of size 60 and 1 output layer. The layers should have a 'normal' initialization of weights.\n",
        "\n",
        "Compile the model with adam optimizer.\n",
        "\n",
        "We should define a `baseline_model()` funtion that will create the model, compile it and return it."
      ]
    },
    {
      "cell_type": "code",
      "metadata": {
        "id": "0lVz94h7LwYl"
      },
      "source": [
        "from tensorflow.keras.models import Sequential\n",
        "from tensorflow.keras.layers import Dense\n",
        "\n",
        "def create_baseline():\n",
        "\t#b\n",
        "\t# create model\n",
        "\tmodel = Sequential()\n",
        "\tmodel.add(Dense(60, input_dim=60, kernel_initializer='normal', activation='relu'))\n",
        "\tmodel.add(Dense(1, kernel_initializer='normal', activation='sigmoid'))\n",
        " \n",
        "\t#b\n",
        "\t# Compile model\n",
        "\tmodel.compile(loss='binary_crossentropy', optimizer='adam', metrics=['accuracy'])\n",
        "\n",
        "\treturn model"
      ],
      "execution_count": 11,
      "outputs": []
    },
    {
      "cell_type": "markdown",
      "metadata": {
        "id": "turVjiiWMR_4"
      },
      "source": [
        "### 4. Evaluate model\n",
        "\n",
        "Evaluate the model using stratified cross validation in the scikit-learn framework. Number of splits should be 10. "
      ]
    },
    {
      "cell_type": "code",
      "metadata": {
        "id": "JND-sahHMRNY",
        "colab": {
          "base_uri": "https://localhost:8080/"
        },
        "outputId": "a8a0cb13-3368-46de-fc67-f2842437cd8c"
      },
      "source": [
        "! pip install scikeras\n",
        "from scikeras.wrappers import KerasClassifier\n",
        "from sklearn.model_selection import cross_val_score\n",
        "from sklearn.model_selection import StratifiedKFold\n",
        "\n",
        "# evaluate model with dataset\n",
        "estimator = KerasClassifier(model=create_baseline, epochs=100, batch_size=5, verbose=0)\n",
        "kfold = StratifiedKFold(n_splits=10, shuffle=True, random_state=15)\n",
        "results = cross_val_score(estimator, X, encoded_Y, cv=kfold)\n",
        "print(\"Baseline: %.2f%% (%.2f%%)\" % (results.mean()*100, results.std()*100))"
      ],
      "execution_count": 12,
      "outputs": [
        {
          "output_type": "stream",
          "name": "stdout",
          "text": [
            "Looking in indexes: https://pypi.org/simple, https://us-python.pkg.dev/colab-wheels/public/simple/\n",
            "Collecting scikeras\n",
            "  Downloading scikeras-0.9.0-py3-none-any.whl (27 kB)\n",
            "Requirement already satisfied: scikit-learn>=1.0.0 in /usr/local/lib/python3.7/dist-packages (from scikeras) (1.0.2)\n",
            "Requirement already satisfied: importlib-metadata>=3 in /usr/local/lib/python3.7/dist-packages (from scikeras) (4.13.0)\n",
            "Requirement already satisfied: packaging>=0.21 in /usr/local/lib/python3.7/dist-packages (from scikeras) (21.3)\n",
            "Requirement already satisfied: zipp>=0.5 in /usr/local/lib/python3.7/dist-packages (from importlib-metadata>=3->scikeras) (3.10.0)\n",
            "Requirement already satisfied: typing-extensions>=3.6.4 in /usr/local/lib/python3.7/dist-packages (from importlib-metadata>=3->scikeras) (4.1.1)\n",
            "Requirement already satisfied: pyparsing!=3.0.5,>=2.0.2 in /usr/local/lib/python3.7/dist-packages (from packaging>=0.21->scikeras) (3.0.9)\n",
            "Requirement already satisfied: scipy>=1.1.0 in /usr/local/lib/python3.7/dist-packages (from scikit-learn>=1.0.0->scikeras) (1.7.3)\n",
            "Requirement already satisfied: numpy>=1.14.6 in /usr/local/lib/python3.7/dist-packages (from scikit-learn>=1.0.0->scikeras) (1.21.6)\n",
            "Requirement already satisfied: joblib>=0.11 in /usr/local/lib/python3.7/dist-packages (from scikit-learn>=1.0.0->scikeras) (1.2.0)\n",
            "Requirement already satisfied: threadpoolctl>=2.0.0 in /usr/local/lib/python3.7/dist-packages (from scikit-learn>=1.0.0->scikeras) (3.1.0)\n",
            "Installing collected packages: scikeras\n",
            "Successfully installed scikeras-0.9.0\n",
            "Baseline: 79.74% (7.56%)\n"
          ]
        }
      ]
    },
    {
      "cell_type": "markdown",
      "metadata": {
        "id": "_oKP2BnHM4KI"
      },
      "source": [
        "## Apply Standardization on Dataset\n",
        "\n",
        "An effective data preparation scheme for tabular data when building neural network models is **standardization**. This is where the data is rescaled such that the mean value for each attribute is 0 and the standard deviation is 1. This preserves Gaussian and Gaussian-like distributions whilst normalizing the central tendencies for each attribute.\n",
        "\n",
        "We can use scikit-learn to perform the standardization of our Sonar dataset using the `StandardScaler` class.\n",
        "\n",
        "## Create a pipeline\n",
        "\n",
        "The Scikit-learn pipeline is a wrapper that executes one or more models within a pass of the cross-validation procedure. Here, we can define a pipeline with the StandardScaler followed by our neural network model."
      ]
    },
    {
      "cell_type": "code",
      "metadata": {
        "id": "xIsFIrnjM86W"
      },
      "source": [
        "from sklearn.preprocessing import StandardScaler\n",
        "from sklearn.pipeline import Pipeline\n",
        "\n",
        "# evaluate baseline model with standardized dataset\n",
        "estimators = []\n",
        "estimators.append(('standardize', StandardScaler()))\n",
        "estimators.append(('mlp', KerasClassifier(model=create_baseline, epochs=100, batch_size=5, verbose=0)))\n",
        "\n",
        "pipeline = Pipeline(estimators)"
      ],
      "execution_count": 13,
      "outputs": []
    },
    {
      "cell_type": "markdown",
      "metadata": {
        "id": "nZlS0W8cNeYx"
      },
      "source": [
        "### Evaluate model"
      ]
    },
    {
      "cell_type": "code",
      "metadata": {
        "id": "mbodsmh2Ngbt",
        "colab": {
          "base_uri": "https://localhost:8080/"
        },
        "outputId": "527566a4-07be-4ea2-c9fb-8a29b3137a82"
      },
      "source": [
        "kfold = StratifiedKFold(n_splits=10, shuffle=True, random_state=15)\n",
        "results = cross_val_score(pipeline, X, encoded_Y, cv=kfold)\n",
        "print(\"Standardized: %.2f%% (%.2f%%)\" % (results.mean()*100, results.std()*100))"
      ],
      "execution_count": 14,
      "outputs": [
        {
          "output_type": "stream",
          "name": "stdout",
          "text": [
            "Standardized: 85.10% (6.58%)\n"
          ]
        }
      ]
    }
  ]
}